{
 "cells": [
  {
   "cell_type": "code",
   "execution_count": 152,
   "metadata": {},
   "outputs": [
    {
     "data": {
      "text/plain": [
       "[Row(ano=2014, system_count_mes=12, qtd_obt=36, system_sum_vlr_bnf=22396579.0, cod_mun=210005),\n",
       " Row(ano=2014, system_count_mes=12, qtd_obt=3, system_sum_vlr_bnf=2913500.0, cod_mun=210010),\n",
       " Row(ano=2014, system_count_mes=12, qtd_obt=1, system_sum_vlr_bnf=4784574.0, cod_mun=210015),\n",
       " Row(ano=2014, system_count_mes=12, qtd_obt=1, system_sum_vlr_bnf=9942430.0, cod_mun=210020),\n",
       " Row(ano=2014, system_count_mes=12, qtd_obt=15, system_sum_vlr_bnf=8545408.0, cod_mun=210030),\n",
       " Row(ano=2014, system_count_mes=12, qtd_obt=1, system_sum_vlr_bnf=2895842.0, cod_mun=210040),\n",
       " Row(ano=2014, system_count_mes=12, qtd_obt=13, system_sum_vlr_bnf=10858674.0, cod_mun=210043),\n",
       " Row(ano=2014, system_count_mes=12, qtd_obt=5, system_sum_vlr_bnf=11160674.0, cod_mun=210047),\n",
       " Row(ano=2014, system_count_mes=12, qtd_obt=1, system_sum_vlr_bnf=3111700.0, cod_mun=210050),\n",
       " Row(ano=2014, system_count_mes=12, qtd_obt=2, system_sum_vlr_bnf=2744017.0, cod_mun=210055),\n",
       " Row(ano=2014, system_count_mes=12, qtd_obt=20, system_sum_vlr_bnf=13333602.0, cod_mun=210060),\n",
       " Row(ano=2014, system_count_mes=12, qtd_obt=2, system_sum_vlr_bnf=13282792.0, cod_mun=210070),\n",
       " Row(ano=2014, system_count_mes=12, qtd_obt=7, system_sum_vlr_bnf=8877248.0, cod_mun=210080),\n",
       " Row(ano=2014, system_count_mes=12, qtd_obt=7, system_sum_vlr_bnf=8519744.0, cod_mun=210083),\n",
       " Row(ano=2014, system_count_mes=12, qtd_obt=5, system_sum_vlr_bnf=19799144.0, cod_mun=210090),\n",
       " Row(ano=2014, system_count_mes=12, qtd_obt=9, system_sum_vlr_bnf=8881909.0, cod_mun=210095),\n",
       " Row(ano=2014, system_count_mes=12, qtd_obt=6, system_sum_vlr_bnf=11756745.0, cod_mun=210100),\n",
       " Row(ano=2014, system_count_mes=12, qtd_obt=3, system_sum_vlr_bnf=6222633.0, cod_mun=210110),\n",
       " Row(ano=2014, system_count_mes=12, qtd_obt=29, system_sum_vlr_bnf=29247151.0, cod_mun=210120),\n",
       " Row(ano=2014, system_count_mes=12, qtd_obt=2, system_sum_vlr_bnf=5532242.0, cod_mun=210125),\n",
       " Row(ano=2014, system_count_mes=12, qtd_obt=2, system_sum_vlr_bnf=5890748.0, cod_mun=210130),\n",
       " Row(ano=2014, system_count_mes=12, qtd_obt=55, system_sum_vlr_bnf=18986401.0, cod_mun=210140),\n",
       " Row(ano=2014, system_count_mes=12, qtd_obt=6, system_sum_vlr_bnf=4769268.0, cod_mun=210150),\n",
       " Row(ano=2014, system_count_mes=12, qtd_obt=28, system_sum_vlr_bnf=23969394.0, cod_mun=210160)]"
      ]
     },
     "execution_count": 152,
     "metadata": {},
     "output_type": "execute_result"
    }
   ],
   "source": [
    "from cassandra.cluster import Cluster\n",
    "cluster = Cluster([\"172.17.0.2\"])\n",
    "session = cluster.connect(\"tfbda\")\n",
    "query = 'select ano, count(mes), qtd_obt,sum(vlr_bnf), cod_mun FROM tfbda.bsafm_obt GROUP BY ano, cod_mun limit 24'\n",
    "# qtd_obt jah eh a mesma por conta do dado ser anual\n",
    "# rows = session.execute('SELECT ano, mes, count(*) FROM bsa_fam GROUP BY ano, mes'210055)\n",
    "# rows = session.execute('SELECT * FROM bsa_fam obt_inf where bsa_fam.cod_mun = obt_inf.cod_mun ALLOW FILTERING')\n",
    "# rows = session.execute('SELECT * FROM obt_inf  where cod_mun = 210055 ALLOW FILTERING')\n",
    "rows = session.execute(query)\n",
    "rows[:]"
   ]
  },
  {
   "cell_type": "code",
   "execution_count": 153,
   "metadata": {},
   "outputs": [
    {
     "name": "stdout",
     "output_type": "stream",
     "text": [
      "22396579.0\n"
     ]
    }
   ],
   "source": [
    "# verificando a soma dos valores bnf \n",
    "query = \"\"\"select ano, mes, qtd_obt,vlr_bnf, cod_mun FROM tfbda.bsafm_obt\n",
    "where cod_mun = 210005 and ano = 2014 GROUP BY ano, cod_mun, mes limit 24 ALLOW FILTERING\"\"\"\n",
    "rows = session.execute(query)\n",
    "rows[:]\n",
    "a = 0\n",
    "\n",
    "for item in rows:\n",
    "    a += item.vlr_bnf\n",
    "#     print(item.vlr_bnf)\n",
    "    \n",
    "print(a)"
   ]
  },
  {
   "cell_type": "code",
   "execution_count": 91,
   "metadata": {},
   "outputs": [
    {
     "name": "stdout",
     "output_type": "stream",
     "text": [
      "Index(['ano', 'cod_mun', 'num_obt'], dtype='object')\n",
      "Index(['ano', 'mês', 'cod_mun', 'ano_mes', 'qtd_fam', 'vlr_bnf'], dtype='object')\n"
     ]
    }
   ],
   "source": [
    "# criando o arquivo merged file, que é a juncao do bolsa familia e obitos\n",
    "import pandas as p\n",
    "\n",
    "df1 = pd.read_csv('obitos_infantis_MA.csv', sep = ';')\n",
    "# df = pd.read_csv('novos_dados.csv',encoding ='latin1', error_bad_lines=False, sep='\\t', header=0)\n",
    "df2 = pd.read_csv('bolsa_familia_Brasil.csv', encoding ='latin1', error_bad_lines=False)\n",
    "# df2.to_csv('bolsa_familia_Brasil.csv', encoding='utf-8')\n",
    "# df2 = pd.read_csv('bolsa_familia_Brasil.csv')\n",
    "print(df1.columns)\n",
    "print(df2.columns)\n",
    "df3 = pd.merge(df1, df2, on=['cod_mun', 'ano'])\n",
    "df3 = df3.drop(df3.columns[df3.columns.str.contains('unnamed',case = False)],axis = 1)\n",
    "df3.to_csv('merged_data.csv')\n",
    "#select ano, mes, qtd_obt,sum(qtd_fam), cod_mun FROM tfbda.bsafm_obt GROUP BY ano, mes, cod_mun limit 24;"
   ]
  }
 ],
 "metadata": {
  "kernelspec": {
   "display_name": "Python 3",
   "language": "python",
   "name": "python3"
  },
  "language_info": {
   "codemirror_mode": {
    "name": "ipython",
    "version": 3
   },
   "file_extension": ".py",
   "mimetype": "text/x-python",
   "name": "python",
   "nbconvert_exporter": "python",
   "pygments_lexer": "ipython3",
   "version": "3.6.7"
  }
 },
 "nbformat": 4,
 "nbformat_minor": 2
}
